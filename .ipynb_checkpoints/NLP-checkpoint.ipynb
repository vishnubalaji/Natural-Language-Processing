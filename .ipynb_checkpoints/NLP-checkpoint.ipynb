{
 "cells": [
  {
   "cell_type": "code",
   "execution_count": 2,
   "metadata": {
    "id": "yMeJYXE9B2sD"
   },
   "outputs": [
    {
     "ename": "ModuleNotFoundError",
     "evalue": "No module named 'gensim'",
     "output_type": "error",
     "traceback": [
      "\u001b[1;31m---------------------------------------------------------------------------\u001b[0m",
      "\u001b[1;31mModuleNotFoundError\u001b[0m                       Traceback (most recent call last)",
      "\u001b[1;32mC:\\Users\\PYTORC~1\\AppData\\Local\\Temp/ipykernel_4360/1344521567.py\u001b[0m in \u001b[0;36m<module>\u001b[1;34m\u001b[0m\n\u001b[0;32m      9\u001b[0m \u001b[1;32mfrom\u001b[0m \u001b[0msklearn\u001b[0m\u001b[1;33m.\u001b[0m\u001b[0mnaive_bayes\u001b[0m \u001b[1;32mimport\u001b[0m \u001b[0mMultinomialNB\u001b[0m\u001b[1;33m\u001b[0m\u001b[1;33m\u001b[0m\u001b[0m\n\u001b[0;32m     10\u001b[0m \u001b[1;32mfrom\u001b[0m \u001b[0msklearn\u001b[0m\u001b[1;33m.\u001b[0m\u001b[0mmetrics\u001b[0m \u001b[1;32mimport\u001b[0m \u001b[0mconfusion_matrix\u001b[0m\u001b[1;33m,\u001b[0m\u001b[0maccuracy_score\u001b[0m\u001b[1;33m\u001b[0m\u001b[1;33m\u001b[0m\u001b[0m\n\u001b[1;32m---> 11\u001b[1;33m \u001b[1;32mfrom\u001b[0m \u001b[0mgensim\u001b[0m\u001b[1;33m.\u001b[0m\u001b[0mmodels\u001b[0m \u001b[1;32mimport\u001b[0m \u001b[0mword2vec\u001b[0m\u001b[1;33m\u001b[0m\u001b[1;33m\u001b[0m\u001b[0m\n\u001b[0m",
      "\u001b[1;31mModuleNotFoundError\u001b[0m: No module named 'gensim'"
     ]
    }
   ],
   "source": [
    "import re\n",
    "import nltk\n",
    "from nltk import tokenize\n",
    "from nltk.stem import PorterStemmer, WordNetLemmatizer\n",
    "from nltk.corpus import stopwords\n",
    "from sklearn.feature_extraction.text import CountVectorizer\n",
    "from sklearn.feature_extraction.text import TfidfVectorizer\n",
    "from sklearn.model_selection import train_test_split\n",
    "from sklearn.naive_bayes import MultinomialNB\n",
    "from sklearn.metrics import confusion_matrix,accuracy_score"
   ]
  },
  {
   "cell_type": "code",
   "execution_count": 2,
   "metadata": {
    "colab": {
     "base_uri": "https://localhost:8080/"
    },
    "id": "QU23HuGIEk7n",
    "outputId": "f2384c9d-6e9e-44a4-af20-21b305e3bc84"
   },
   "outputs": [
    {
     "name": "stderr",
     "output_type": "stream",
     "text": [
      "[nltk_data] Downloading package punkt to\n",
      "[nltk_data]     C:\\Users\\PyTorcher1729_36\\AppData\\Roaming\\nltk_data...\n",
      "[nltk_data]   Unzipping tokenizers\\punkt.zip.\n"
     ]
    },
    {
     "data": {
      "text/plain": [
       "True"
      ]
     },
     "execution_count": 2,
     "metadata": {},
     "output_type": "execute_result"
    }
   ],
   "source": [
    "nltk.download('punkt')"
   ]
  },
  {
   "cell_type": "code",
   "execution_count": 3,
   "metadata": {
    "colab": {
     "base_uri": "https://localhost:8080/"
    },
    "id": "ivNRLZhPfyxS",
    "outputId": "fea598ce-e5ac-40ab-9e2f-5cd15e3db496"
   },
   "outputs": [
    {
     "name": "stderr",
     "output_type": "stream",
     "text": [
      "[nltk_data] Downloading package wordnet to\n",
      "[nltk_data]     C:\\Users\\PyTorcher1729_36\\AppData\\Roaming\\nltk_data...\n",
      "[nltk_data]   Unzipping corpora\\wordnet.zip.\n"
     ]
    },
    {
     "data": {
      "text/plain": [
       "True"
      ]
     },
     "execution_count": 3,
     "metadata": {},
     "output_type": "execute_result"
    }
   ],
   "source": [
    "nltk.download('wordnet')"
   ]
  },
  {
   "cell_type": "code",
   "execution_count": 4,
   "metadata": {
    "colab": {
     "base_uri": "https://localhost:8080/"
    },
    "id": "St42LWnOFE1n",
    "outputId": "f7b8e394-fac3-4ec2-d3ce-13d94a795856"
   },
   "outputs": [
    {
     "name": "stderr",
     "output_type": "stream",
     "text": [
      "[nltk_data] Downloading package stopwords to\n",
      "[nltk_data]     C:\\Users\\PyTorcher1729_36\\AppData\\Roaming\\nltk_data...\n",
      "[nltk_data]   Unzipping corpora\\stopwords.zip.\n"
     ]
    },
    {
     "data": {
      "text/plain": [
       "True"
      ]
     },
     "execution_count": 4,
     "metadata": {},
     "output_type": "execute_result"
    }
   ],
   "source": [
    "nltk.download('stopwords')"
   ]
  },
  {
   "cell_type": "markdown",
   "metadata": {
    "id": "jC4fib6IjoUi"
   },
   "source": [
    "Tokenization and Stemming"
   ]
  },
  {
   "cell_type": "code",
   "execution_count": 5,
   "metadata": {
    "colab": {
     "base_uri": "https://localhost:8080/"
    },
    "id": "u_hHqLTgCood",
    "outputId": "9d7d2f7e-111a-43cc-81cd-549e28c0d829"
   },
   "outputs": [
    {
     "name": "stdout",
     "output_type": "stream",
     "text": [
      "179\n",
      "['elon musk co-found lead tesla , spacex , neuralink the bore compani .', 'as co-found ceo tesla , elon lead product design , engin global manufactur compani electr vehicl , batteri product solar energi product .', 'sinc compani ’ incept 2003 , tesla ’ mission acceler world ’ transit sustain energi .', 'the first tesla product , roadster sport car , debut 2008 , follow model s sedan , introduc 2012 , model x suv , launch 2015 .', 'model s receiv consum report ’ best overal car name ultim car year motor trend , model x first suv ever earn 5-star safeti rate everi categori sub-categori nation highway traffic safeti administr ’ test .', 'in 2017 , tesla began deliveri model 3 , mass-market electr vehicl 320 mile rang , unveil tesla semi , design save owner least $ 200,000 million mile base fuel cost alon .', 'in 2019 , tesla unveil cybertruck , better util tradit truck perform sport car , well model y compact suv , began custom deliveri earli 2020 .', 'tesla also produc three energi storag product , powerwal home batteri , powerpack commercial-scal batteri , megapack , design utility-scal instal .', 'in 2016 , tesla becam world ’ first vertically-integr sustain energi compani acquisit solarc , lead provid solar power system unit state , 2017 releas solar roof – beauti afford energi gener product .', 'as lead design spacex , elon overse develop rocket spacecraft mission earth orbit ultim planet .', 'in 2008 , spacex falcon 1 first privat develop liquid fuel rocket reach orbit , spacex made histori 2017 re-fli falcon 9 rocket dragon spacecraft first time .', 'soon , falcon heavi , power oper rocket world factor two , complet first flight 2018 .', 'in 2019 , spacex ’ crew-cap version dragon spacecraft complet first demonstr mission , compani fli nasa astronaut intern space station first time 2020 .', 'build achiev , spacex develop starship – fulli reusabl transport system carri crew cargo moon , mar beyond \\xad– starlink , deliv high speed broadband internet locat access unreli , expens , complet unavail .', 'by pioneer reusabl rocket , spacex pursu long-term goal make human multi-planet speci creat self-sustain citi mar .', 'elon also ceo neuralink , develop ultra-high bandwidth brain-machin interfac connect human brain comput .', 'he also launch the bore compani , combin fast , afford tunnel technolog all-electr public transport system order allevi soul-crush urban congest enabl high-spe , long-dist travel .', 'the bore compani built 1.15 mile r & d tunnel hawthorn , current construct vega loop , public transport system la vega convent center .', 'previous , elon co-found sold paypal , world lead internet payment system , zip2 , one first internet map direct servic .']\n"
     ]
    }
   ],
   "source": [
    "text = \"\"\"Elon Musk co-founded and leads Tesla, SpaceX, Neuralink and The Boring Company. As the co-founder and CEO of Tesla, Elon leads all product design, engineering and global manufacturing of the company electric vehicles, battery products and solar energy products. Since the company’s inception in 2003, Tesla’s mission has been to accelerate the world’s transition to sustainable energy. The first Tesla product, the Roadster sports car, debuted in 2008, followed by the Model S sedan, which was introduced in 2012, and the Model X SUV, which launched in 2015. Model S received Consumer Reports’ Best Overall Car and has been named the Ultimate Car of the Year by Motor Trend, while Model X was the first SUV ever to earn 5-star safety ratings in every category and sub-category in the National Highway Traffic Safety Administration’s tests. In 2017, Tesla began deliveries of Model 3, a mass-market electric vehicle with more than 320 miles of range, and unveiled Tesla Semi, which is designed to save owners at least $200,000 over a million miles based on fuel costs alone. In 2019, Tesla unveiled Cybertruck, which will have better utility than a traditional truck and more performance than a sports car, as well as the Model Y compact SUV, which began customer deliveries in early 2020.\n",
    "Tesla also produces three energy storage products, the Powerwall home battery, the Powerpack commercial-scale battery, and Megapack, which is designed for utility-scale installations. In 2016, Tesla became the world’s first vertically-integrated sustainable energy company with the acquisition of SolarCity, the leading provider of solar power systems in the United States, and in 2017 released Solar Roof – a beautiful and affordable energy generation product.\n",
    "As lead designer at SpaceX, Elon oversees the development of rockets and spacecraft for missions to Earth orbit and ultimately to other planets. In 2008, the SpaceX Falcon 1 was the first privately developed liquid fuel rocket to reach orbit, and SpaceX made further history in 2017 by re-flying both a Falcon 9 rocket and Dragon spacecraft for the first time. Soon after, Falcon Heavy, the most powerful operational rocket in the world by a factor of two, completed its first flight in 2018. In 2019, SpaceX’s crew-capable version of the Dragon spacecraft completed its first demonstration mission, and the company will fly NASA astronauts to the International Space Station for the first time in 2020. Building on these achievements, SpaceX is developing Starship – a fully reusable transportation system that will carry crew and cargo to the Moon, Mars and beyond ­– and Starlink, which will deliver high speed broadband internet to locations where access has been unreliable, expensive, or completely unavailable. By pioneering reusable rockets, SpaceX is pursuing the long-term goal of making humans a multi-planet species by creating a self-sustaining city on Mars.\n",
    "Elon is also CEO of Neuralink, which is developing ultra-high bandwidth brain-machine interfaces to connect the human brain to computers.\n",
    "He also launched The Boring Company, which combines fast, affordable tunneling technology with an all-electric public transportation system in order to alleviate soul-crushing urban congestion and enable high-speed, long-distance travel. The Boring Company built a 1.15 mile R&D tunnel in Hawthorne, and is currently constructing Vegas Loop, a public transportation system at the Las Vegas Convention Center.\n",
    "Previously, Elon co-founded and sold PayPal, the worlds leading Internet payment system, and Zip2, one of the first internet maps and directions services.\n",
    "\"\"\"\n",
    "\n",
    "sentences1 = tokenize.sent_tokenize(text,language='english')\n",
    "stemmer = PorterStemmer()\n",
    "stop_words = stopwords.words('english')\n",
    "print(len(stopwords.words('english')))\n",
    "\n",
    "len_sent = len(sentences1)\n",
    "for i in range(len_sent):\n",
    "  words = nltk.word_tokenize(sentences1[i])\n",
    "  words_stem = [stemmer.stem(word) for word in words if word not in set(stop_words)]\n",
    "  sentences1[i] = ' '.join(words_stem)\n",
    "\n",
    "print(sentences1)"
   ]
  },
  {
   "cell_type": "markdown",
   "metadata": {
    "id": "xd66M26njsd1"
   },
   "source": [
    "Tokenization and Lemmatization"
   ]
  },
  {
   "cell_type": "code",
   "execution_count": 6,
   "metadata": {
    "colab": {
     "base_uri": "https://localhost:8080/"
    },
    "id": "p6e0vHADjGmS",
    "outputId": "8dd733f7-e330-49aa-fb24-16578b887d58"
   },
   "outputs": [
    {
     "name": "stdout",
     "output_type": "stream",
     "text": [
      "179\n",
      "['Elon Musk co-founded lead Tesla , SpaceX , Neuralink The Boring Company .', 'As co-founder CEO Tesla , Elon lead product design , engineering global manufacturing company electric vehicle , battery product solar energy product .', 'Since company ’ inception 2003 , Tesla ’ mission accelerate world ’ transition sustainable energy .', 'The first Tesla product , Roadster sport car , debuted 2008 , followed Model S sedan , introduced 2012 , Model X SUV , launched 2015 .', 'Model S received Consumer Reports ’ Best Overall Car named Ultimate Car Year Motor Trend , Model X first SUV ever earn 5-star safety rating every category sub-category National Highway Traffic Safety Administration ’ test .', 'In 2017 , Tesla began delivery Model 3 , mass-market electric vehicle 320 mile range , unveiled Tesla Semi , designed save owner least $ 200,000 million mile based fuel cost alone .', 'In 2019 , Tesla unveiled Cybertruck , better utility traditional truck performance sport car , well Model Y compact SUV , began customer delivery early 2020 .', 'Tesla also produce three energy storage product , Powerwall home battery , Powerpack commercial-scale battery , Megapack , designed utility-scale installation .', 'In 2016 , Tesla became world ’ first vertically-integrated sustainable energy company acquisition SolarCity , leading provider solar power system United States , 2017 released Solar Roof – beautiful affordable energy generation product .', 'As lead designer SpaceX , Elon oversees development rocket spacecraft mission Earth orbit ultimately planet .', 'In 2008 , SpaceX Falcon 1 first privately developed liquid fuel rocket reach orbit , SpaceX made history 2017 re-flying Falcon 9 rocket Dragon spacecraft first time .', 'Soon , Falcon Heavy , powerful operational rocket world factor two , completed first flight 2018 .', 'In 2019 , SpaceX ’ crew-capable version Dragon spacecraft completed first demonstration mission , company fly NASA astronaut International Space Station first time 2020 .', 'Building achievement , SpaceX developing Starship – fully reusable transportation system carry crew cargo Moon , Mars beyond \\xad– Starlink , deliver high speed broadband internet location access unreliable , expensive , completely unavailable .', 'By pioneering reusable rocket , SpaceX pursuing long-term goal making human multi-planet specie creating self-sustaining city Mars .', 'Elon also CEO Neuralink , developing ultra-high bandwidth brain-machine interface connect human brain computer .', 'He also launched The Boring Company , combine fast , affordable tunneling technology all-electric public transportation system order alleviate soul-crushing urban congestion enable high-speed , long-distance travel .', 'The Boring Company built 1.15 mile R & D tunnel Hawthorne , currently constructing Vegas Loop , public transportation system Las Vegas Convention Center .', 'Previously , Elon co-founded sold PayPal , world leading Internet payment system , Zip2 , one first internet map direction service .']\n"
     ]
    }
   ],
   "source": [
    "text = \"\"\"Elon Musk co-founded and leads Tesla, SpaceX, Neuralink and The Boring Company. As the co-founder and CEO of Tesla, Elon leads all product design, engineering and global manufacturing of the company electric vehicles, battery products and solar energy products. Since the company’s inception in 2003, Tesla’s mission has been to accelerate the world’s transition to sustainable energy. The first Tesla product, the Roadster sports car, debuted in 2008, followed by the Model S sedan, which was introduced in 2012, and the Model X SUV, which launched in 2015. Model S received Consumer Reports’ Best Overall Car and has been named the Ultimate Car of the Year by Motor Trend, while Model X was the first SUV ever to earn 5-star safety ratings in every category and sub-category in the National Highway Traffic Safety Administration’s tests. In 2017, Tesla began deliveries of Model 3, a mass-market electric vehicle with more than 320 miles of range, and unveiled Tesla Semi, which is designed to save owners at least $200,000 over a million miles based on fuel costs alone. In 2019, Tesla unveiled Cybertruck, which will have better utility than a traditional truck and more performance than a sports car, as well as the Model Y compact SUV, which began customer deliveries in early 2020.\n",
    "Tesla also produces three energy storage products, the Powerwall home battery, the Powerpack commercial-scale battery, and Megapack, which is designed for utility-scale installations. In 2016, Tesla became the world’s first vertically-integrated sustainable energy company with the acquisition of SolarCity, the leading provider of solar power systems in the United States, and in 2017 released Solar Roof – a beautiful and affordable energy generation product.\n",
    "As lead designer at SpaceX, Elon oversees the development of rockets and spacecraft for missions to Earth orbit and ultimately to other planets. In 2008, the SpaceX Falcon 1 was the first privately developed liquid fuel rocket to reach orbit, and SpaceX made further history in 2017 by re-flying both a Falcon 9 rocket and Dragon spacecraft for the first time. Soon after, Falcon Heavy, the most powerful operational rocket in the world by a factor of two, completed its first flight in 2018. In 2019, SpaceX’s crew-capable version of the Dragon spacecraft completed its first demonstration mission, and the company will fly NASA astronauts to the International Space Station for the first time in 2020. Building on these achievements, SpaceX is developing Starship – a fully reusable transportation system that will carry crew and cargo to the Moon, Mars and beyond ­– and Starlink, which will deliver high speed broadband internet to locations where access has been unreliable, expensive, or completely unavailable. By pioneering reusable rockets, SpaceX is pursuing the long-term goal of making humans a multi-planet species by creating a self-sustaining city on Mars.\n",
    "Elon is also CEO of Neuralink, which is developing ultra-high bandwidth brain-machine interfaces to connect the human brain to computers.\n",
    "He also launched The Boring Company, which combines fast, affordable tunneling technology with an all-electric public transportation system in order to alleviate soul-crushing urban congestion and enable high-speed, long-distance travel. The Boring Company built a 1.15 mile R&D tunnel in Hawthorne, and is currently constructing Vegas Loop, a public transportation system at the Las Vegas Convention Center.\n",
    "Previously, Elon co-founded and sold PayPal, the worlds leading Internet payment system, and Zip2, one of the first internet maps and directions services.\n",
    "\"\"\"\n",
    "\n",
    "sentences2 = tokenize.sent_tokenize(text,language='english')\n",
    "lemmatizer = WordNetLemmatizer()\n",
    "stop_words = stopwords.words('english')\n",
    "print(len(stopwords.words('english')))\n",
    "\n",
    "len_sent = len(sentences2)\n",
    "for i in range(len_sent):\n",
    "  words = nltk.word_tokenize(sentences2[i])\n",
    "  words_lemm = [lemmatizer.lemmatize(word) for word in words if word not in set(stop_words)]\n",
    "  sentences2[i] = ' '.join(words_lemm)\n",
    "\n",
    "print(sentences2)"
   ]
  },
  {
   "cell_type": "markdown",
   "metadata": {
    "id": "mh6M7eTtjz8r"
   },
   "source": [
    "Bag of words"
   ]
  },
  {
   "cell_type": "code",
   "execution_count": 7,
   "metadata": {
    "colab": {
     "base_uri": "https://localhost:8080/"
    },
    "id": "LTySs5WdDfmR",
    "outputId": "8d83ef58-b974-40f4-ad06-339a7b52cef0"
   },
   "outputs": [
    {
     "name": "stdout",
     "output_type": "stream",
     "text": [
      "['elon musk co founded lead tesla spacex neuralink boring company', 'co founder ceo tesla elon lead product design engineering global manufacturing company electric vehicle battery product solar energy product', 'since company inception tesla mission accelerate world transition sustainable energy', 'first tesla product roadster sport car debuted followed model sedan introduced model x suv launched', 'model received consumer report best overall car named ultimate car year motor trend model x first suv ever earn star safety rating every category sub category national highway traffic safety administration test', 'tesla began delivery model mass market electric vehicle mile range unveiled tesla semi designed save owner least million mile based fuel cost alone', 'tesla unveiled cybertruck better utility traditional truck performance sport car well model compact suv began customer delivery early', 'tesla also produce three energy storage product powerwall home battery powerpack commercial scale battery megapack designed utility scale installation', 'tesla became world first vertically integrated sustainable energy company acquisition solarcity leading provider solar power system united state released solar roof beautiful affordable energy generation product', 'lead designer spacex elon oversees development rocket spacecraft mission earth orbit ultimately planet', 'spacex falcon first privately developed liquid fuel rocket reach orbit spacex made history flying falcon rocket dragon spacecraft first time', 'soon falcon heavy powerful operational rocket world factor two completed first flight', 'spacex crew capable version dragon spacecraft completed first demonstration mission company fly nasa astronaut international space station first time', 'building achievement spacex developing starship fully reusable transportation system carry crew cargo moon mar beyond starlink deliver high speed broadband internet location access unreliable expensive completely unavailable', 'pioneering reusable rocket spacex pursuing long term goal making human multi planet specie creating self sustaining city mar', 'elon also ceo neuralink developing ultra high bandwidth brain machine interface connect human brain computer', 'also launched boring company combine fast affordable tunneling technology electric public transportation system order alleviate soul crushing urban congestion enable high speed long distance travel', 'boring company built mile r tunnel hawthorne currently constructing vega loop public transportation system la vega convention center', 'previously elon co founded sold paypal world leading internet payment system zip one first internet map direction service']\n",
      "[[0 0 0 ... 0 0 0]\n",
      " [0 0 0 ... 0 0 0]\n",
      " [1 0 0 ... 1 0 0]\n",
      " ...\n",
      " [0 0 0 ... 0 0 0]\n",
      " [0 0 0 ... 0 0 0]\n",
      " [0 0 0 ... 1 0 1]]\n"
     ]
    }
   ],
   "source": [
    "text = \"\"\"Elon Musk co-founded and leads Tesla, SpaceX, Neuralink and The Boring Company. As the co-founder and CEO of Tesla, Elon leads all product design, engineering and global manufacturing of the company electric vehicles, battery products and solar energy products. Since the company’s inception in 2003, Tesla’s mission has been to accelerate the world’s transition to sustainable energy. The first Tesla product, the Roadster sports car, debuted in 2008, followed by the Model S sedan, which was introduced in 2012, and the Model X SUV, which launched in 2015. Model S received Consumer Reports’ Best Overall Car and has been named the Ultimate Car of the Year by Motor Trend, while Model X was the first SUV ever to earn 5-star safety ratings in every category and sub-category in the National Highway Traffic Safety Administration’s tests. In 2017, Tesla began deliveries of Model 3, a mass-market electric vehicle with more than 320 miles of range, and unveiled Tesla Semi, which is designed to save owners at least $200,000 over a million miles based on fuel costs alone. In 2019, Tesla unveiled Cybertruck, which will have better utility than a traditional truck and more performance than a sports car, as well as the Model Y compact SUV, which began customer deliveries in early 2020.\n",
    "Tesla also produces three energy storage products, the Powerwall home battery, the Powerpack commercial-scale battery, and Megapack, which is designed for utility-scale installations. In 2016, Tesla became the world’s first vertically-integrated sustainable energy company with the acquisition of SolarCity, the leading provider of solar power systems in the United States, and in 2017 released Solar Roof – a beautiful and affordable energy generation product.\n",
    "As lead designer at SpaceX, Elon oversees the development of rockets and spacecraft for missions to Earth orbit and ultimately to other planets. In 2008, the SpaceX Falcon 1 was the first privately developed liquid fuel rocket to reach orbit, and SpaceX made further history in 2017 by re-flying both a Falcon 9 rocket and Dragon spacecraft for the first time. Soon after, Falcon Heavy, the most powerful operational rocket in the world by a factor of two, completed its first flight in 2018. In 2019, SpaceX’s crew-capable version of the Dragon spacecraft completed its first demonstration mission, and the company will fly NASA astronauts to the International Space Station for the first time in 2020. Building on these achievements, SpaceX is developing Starship – a fully reusable transportation system that will carry crew and cargo to the Moon, Mars and beyond ­– and Starlink, which will deliver high speed broadband internet to locations where access has been unreliable, expensive, or completely unavailable. By pioneering reusable rockets, SpaceX is pursuing the long-term goal of making humans a multi-planet species by creating a self-sustaining city on Mars.\n",
    "Elon is also CEO of Neuralink, which is developing ultra-high bandwidth brain-machine interfaces to connect the human brain to computers.\n",
    "He also launched The Boring Company, which combines fast, affordable tunneling technology with an all-electric public transportation system in order to alleviate soul-crushing urban congestion and enable high-speed, long-distance travel. The Boring Company built a 1.15 mile R&D tunnel in Hawthorne, and is currently constructing Vegas Loop, a public transportation system at the Las Vegas Convention Center.\n",
    "Previously, Elon co-founded and sold PayPal, the worlds leading Internet payment system, and Zip2, one of the first internet maps and directions services.\n",
    "\"\"\"\n",
    "\n",
    "sentences3 = tokenize.sent_tokenize(text,language='english')\n",
    "lemmatizer = WordNetLemmatizer()\n",
    "stop_words = stopwords.words('english')\n",
    "# print(len(stopwords.words('english')))\n",
    "\n",
    "len_sent = len(sentences3)\n",
    "for i in range(len_sent):\n",
    "  sentences3[i] = re.sub('[^a-zA-Z]',' ',sentences3[i])\n",
    "  sentences3[i] = sentences3[i].lower()\n",
    "  words = nltk.word_tokenize(sentences3[i])\n",
    "  words_lemm = [lemmatizer.lemmatize(word) for word in words if word not in set(stop_words)]\n",
    "  sentences3[i] = ' '.join(words_lemm)\n",
    "\n",
    "print(sentences3)\n",
    "cv = CountVectorizer()\n",
    "op = cv.fit_transform(sentences3)\n",
    "print(op.toarray())"
   ]
  },
  {
   "cell_type": "markdown",
   "metadata": {
    "id": "7D_jwWkKyw2D"
   },
   "source": [
    "TF-IDF"
   ]
  },
  {
   "cell_type": "code",
   "execution_count": 8,
   "metadata": {
    "colab": {
     "base_uri": "https://localhost:8080/"
    },
    "id": "I3X08I-ryyV1",
    "outputId": "46be096d-973f-470b-ac54-d65ae19e584a"
   },
   "outputs": [
    {
     "name": "stdout",
     "output_type": "stream",
     "text": [
      "['elon musk co founded lead tesla spacex neuralink boring company', 'co founder ceo tesla elon lead product design engineering global manufacturing company electric vehicle battery product solar energy product', 'since company inception tesla mission accelerate world transition sustainable energy', 'first tesla product roadster sport car debuted followed model sedan introduced model x suv launched', 'model received consumer report best overall car named ultimate car year motor trend model x first suv ever earn star safety rating every category sub category national highway traffic safety administration test', 'tesla began delivery model mass market electric vehicle mile range unveiled tesla semi designed save owner least million mile based fuel cost alone', 'tesla unveiled cybertruck better utility traditional truck performance sport car well model compact suv began customer delivery early', 'tesla also produce three energy storage product powerwall home battery powerpack commercial scale battery megapack designed utility scale installation', 'tesla became world first vertically integrated sustainable energy company acquisition solarcity leading provider solar power system united state released solar roof beautiful affordable energy generation product', 'lead designer spacex elon oversees development rocket spacecraft mission earth orbit ultimately planet', 'spacex falcon first privately developed liquid fuel rocket reach orbit spacex made history flying falcon rocket dragon spacecraft first time', 'soon falcon heavy powerful operational rocket world factor two completed first flight', 'spacex crew capable version dragon spacecraft completed first demonstration mission company fly nasa astronaut international space station first time', 'building achievement spacex developing starship fully reusable transportation system carry crew cargo moon mar beyond starlink deliver high speed broadband internet location access unreliable expensive completely unavailable', 'pioneering reusable rocket spacex pursuing long term goal making human multi planet specie creating self sustaining city mar', 'elon also ceo neuralink developing ultra high bandwidth brain machine interface connect human brain computer', 'also launched boring company combine fast affordable tunneling technology electric public transportation system order alleviate soul crushing urban congestion enable high speed long distance travel', 'boring company built mile r tunnel hawthorne currently constructing vega loop public transportation system la vega convention center', 'previously elon co founded sold paypal world leading internet payment system zip one first internet map direction service']\n",
      "[[0.         0.         0.         ... 0.         0.         0.        ]\n",
      " [0.         0.         0.         ... 0.         0.         0.        ]\n",
      " [0.3760561  0.         0.         ... 0.27172065 0.         0.        ]\n",
      " ...\n",
      " [0.         0.         0.         ... 0.         0.         0.        ]\n",
      " [0.         0.         0.         ... 0.         0.         0.        ]\n",
      " [0.         0.         0.         ... 0.18068959 0.         0.25007089]]\n"
     ]
    }
   ],
   "source": [
    "text = \"\"\"Elon Musk co-founded and leads Tesla, SpaceX, Neuralink and The Boring Company. As the co-founder and CEO of Tesla, Elon leads all product design, engineering and global manufacturing of the company electric vehicles, battery products and solar energy products. Since the company’s inception in 2003, Tesla’s mission has been to accelerate the world’s transition to sustainable energy. The first Tesla product, the Roadster sports car, debuted in 2008, followed by the Model S sedan, which was introduced in 2012, and the Model X SUV, which launched in 2015. Model S received Consumer Reports’ Best Overall Car and has been named the Ultimate Car of the Year by Motor Trend, while Model X was the first SUV ever to earn 5-star safety ratings in every category and sub-category in the National Highway Traffic Safety Administration’s tests. In 2017, Tesla began deliveries of Model 3, a mass-market electric vehicle with more than 320 miles of range, and unveiled Tesla Semi, which is designed to save owners at least $200,000 over a million miles based on fuel costs alone. In 2019, Tesla unveiled Cybertruck, which will have better utility than a traditional truck and more performance than a sports car, as well as the Model Y compact SUV, which began customer deliveries in early 2020.\n",
    "Tesla also produces three energy storage products, the Powerwall home battery, the Powerpack commercial-scale battery, and Megapack, which is designed for utility-scale installations. In 2016, Tesla became the world’s first vertically-integrated sustainable energy company with the acquisition of SolarCity, the leading provider of solar power systems in the United States, and in 2017 released Solar Roof – a beautiful and affordable energy generation product.\n",
    "As lead designer at SpaceX, Elon oversees the development of rockets and spacecraft for missions to Earth orbit and ultimately to other planets. In 2008, the SpaceX Falcon 1 was the first privately developed liquid fuel rocket to reach orbit, and SpaceX made further history in 2017 by re-flying both a Falcon 9 rocket and Dragon spacecraft for the first time. Soon after, Falcon Heavy, the most powerful operational rocket in the world by a factor of two, completed its first flight in 2018. In 2019, SpaceX’s crew-capable version of the Dragon spacecraft completed its first demonstration mission, and the company will fly NASA astronauts to the International Space Station for the first time in 2020. Building on these achievements, SpaceX is developing Starship – a fully reusable transportation system that will carry crew and cargo to the Moon, Mars and beyond ­– and Starlink, which will deliver high speed broadband internet to locations where access has been unreliable, expensive, or completely unavailable. By pioneering reusable rockets, SpaceX is pursuing the long-term goal of making humans a multi-planet species by creating a self-sustaining city on Mars.\n",
    "Elon is also CEO of Neuralink, which is developing ultra-high bandwidth brain-machine interfaces to connect the human brain to computers.\n",
    "He also launched The Boring Company, which combines fast, affordable tunneling technology with an all-electric public transportation system in order to alleviate soul-crushing urban congestion and enable high-speed, long-distance travel. The Boring Company built a 1.15 mile R&D tunnel in Hawthorne, and is currently constructing Vegas Loop, a public transportation system at the Las Vegas Convention Center.\n",
    "Previously, Elon co-founded and sold PayPal, the worlds leading Internet payment system, and Zip2, one of the first internet maps and directions services.\n",
    "\"\"\"\n",
    "\n",
    "sentences4 = tokenize.sent_tokenize(text,language='english')\n",
    "lemmatizer = WordNetLemmatizer()\n",
    "stop_words = stopwords.words('english')\n",
    "# print(len(stopwords.words('english')))\n",
    "\n",
    "len_sent = len(sentences4)\n",
    "for i in range(len_sent):\n",
    "  sentences4[i] = re.sub('[^a-zA-Z]',' ',sentences4[i])\n",
    "  sentences4[i] = sentences4[i].lower()\n",
    "  words = nltk.word_tokenize(sentences4[i])\n",
    "  words_lemm = [lemmatizer.lemmatize(word) for word in words if word not in set(stop_words)]\n",
    "  sentences4[i] = ' '.join(words_lemm)\n",
    "\n",
    "print(sentences4)\n",
    "tfidf = TfidfVectorizer()\n",
    "op = tfidf.fit_transform(sentences4)\n",
    "print(op.toarray())"
   ]
  },
  {
   "cell_type": "code",
   "execution_count": null,
   "metadata": {
    "colab": {
     "base_uri": "https://localhost:8080/"
    },
    "id": "TB347TDPwyDt",
    "outputId": "ce27f103-8c92-4b74-d97a-817a14d45e39"
   },
   "outputs": [
    {
     "name": "stdout",
     "output_type": "stream",
     "text": [
      "[[0 0 0 ... 0 0 0]\n",
      " [0 0 0 ... 0 0 0]\n",
      " [1 0 0 ... 1 0 0]\n",
      " ...\n",
      " [0 0 0 ... 0 0 0]\n",
      " [0 0 0 ... 0 0 0]\n",
      " [0 0 0 ... 1 0 1]]\n"
     ]
    }
   ],
   "source": [
    "# print(re.sub('[^a-zA-Z]',' ',text.split('.')[0]))\n",
    "# print(text.split('.')[0].split())\n",
    "# print(nltk.word_tokenize(text.split('.')[0]))"
   ]
  },
  {
   "cell_type": "markdown",
   "metadata": {},
   "source": [
    "# Spam Classifier"
   ]
  },
  {
   "cell_type": "code",
   "execution_count": 11,
   "metadata": {},
   "outputs": [],
   "source": [
    "import pandas as pd"
   ]
  },
  {
   "cell_type": "code",
   "execution_count": 27,
   "metadata": {},
   "outputs": [],
   "source": [
    "path = 'smsspamcollection\\SMSSpamCollection'\n",
    "spam = pd.read_csv(path,sep='\\t',header=None)"
   ]
  },
  {
   "cell_type": "code",
   "execution_count": 50,
   "metadata": {},
   "outputs": [],
   "source": [
    "text = list(spam[1])\n",
    "length = len(text)\n",
    "lemmatizer = WordNetLemmatizer()\n",
    "for i in range(length):\n",
    "    text[i] = re.sub('[^a-zA-Z]',' ',text[i])\n",
    "    text[i] = text[i].lower()\n",
    "    words = nltk.word_tokenize(text[i])\n",
    "    words_lemm = [lemmatizer.lemmatize(word) for word in words if word not in set(stop_words)]\n",
    "    text[i] = ' '.join(words_lemm)\n",
    "tfidf = TfidfVectorizer()\n",
    "x = tfidf.fit_transform(text)"
   ]
  },
  {
   "cell_type": "code",
   "execution_count": 51,
   "metadata": {},
   "outputs": [
    {
     "name": "stdout",
     "output_type": "stream",
     "text": [
      "[[0. 0. 0. ... 0. 0. 0.]\n",
      " [0. 0. 0. ... 0. 0. 0.]\n",
      " [0. 0. 0. ... 0. 0. 0.]\n",
      " ...\n",
      " [0. 0. 0. ... 0. 0. 0.]\n",
      " [0. 0. 0. ... 0. 0. 0.]\n",
      " [0. 0. 0. ... 0. 0. 0.]]\n"
     ]
    }
   ],
   "source": [
    "# print(text)\n",
    "x = x.toarray()\n",
    "print(x)"
   ]
  },
  {
   "cell_type": "code",
   "execution_count": 58,
   "metadata": {},
   "outputs": [
    {
     "name": "stdout",
     "output_type": "stream",
     "text": [
      "0       1\n",
      "1       1\n",
      "2       0\n",
      "3       1\n",
      "4       1\n",
      "       ..\n",
      "5567    0\n",
      "5568    1\n",
      "5569    1\n",
      "5570    1\n",
      "5571    1\n",
      "Name: ham, Length: 5572, dtype: uint8\n"
     ]
    }
   ],
   "source": [
    "y=pd.get_dummies(spam[0])['ham']\n",
    "print(y)"
   ]
  },
  {
   "cell_type": "code",
   "execution_count": 60,
   "metadata": {},
   "outputs": [],
   "source": [
    "x_train, x_test, y_train, y_test = train_test_split(x,y,test_size=0.2,random_state=0)\n",
    "spam_classifier = MultinomialNB().fit(x_train,y_train)\n",
    "y_pred = spam_classifier.predict(x_test)"
   ]
  },
  {
   "cell_type": "code",
   "execution_count": 62,
   "metadata": {},
   "outputs": [
    {
     "data": {
      "text/plain": [
       "array([[129,  31],\n",
       "       [  0, 955]], dtype=int64)"
      ]
     },
     "execution_count": 62,
     "metadata": {},
     "output_type": "execute_result"
    }
   ],
   "source": [
    "confusion_matrix(y_test,y_pred)"
   ]
  },
  {
   "cell_type": "code",
   "execution_count": 64,
   "metadata": {},
   "outputs": [
    {
     "data": {
      "text/plain": [
       "0.9721973094170404"
      ]
     },
     "execution_count": 64,
     "metadata": {},
     "output_type": "execute_result"
    }
   ],
   "source": [
    "accuracy_score(y_test,y_pred)"
   ]
  }
 ],
 "metadata": {
  "colab": {
   "collapsed_sections": [],
   "name": "NLP.ipynb",
   "provenance": []
  },
  "kernelspec": {
   "display_name": "NLP",
   "language": "python",
   "name": "nlp"
  },
  "language_info": {
   "codemirror_mode": {
    "name": "ipython",
    "version": 3
   },
   "file_extension": ".py",
   "mimetype": "text/x-python",
   "name": "python",
   "nbconvert_exporter": "python",
   "pygments_lexer": "ipython3",
   "version": "3.9.6"
  }
 },
 "nbformat": 4,
 "nbformat_minor": 4
}
