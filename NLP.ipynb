{
 "cells": [
  {
   "cell_type": "markdown",
   "metadata": {
    "jp-MarkdownHeadingCollapsed": true,
    "tags": []
   },
   "source": [
    "# Rough work"
   ]
  },
  {
   "cell_type": "code",
   "execution_count": null,
   "metadata": {
    "id": "yMeJYXE9B2sD"
   },
   "outputs": [],
   "source": [
    "import re\n",
    "import nltk\n",
    "from nltk import tokenize\n",
    "from nltk.stem import PorterStemmer, WordNetLemmatizer\n",
    "from nltk.corpus import stopwords\n",
    "from sklearn.feature_extraction.text import CountVectorizer\n",
    "from sklearn.feature_extraction.text import TfidfVectorizer\n",
    "from sklearn.model_selection import train_test_split\n",
    "from sklearn.naive_bayes import MultinomialNB\n",
    "from sklearn.metrics import confusion_matrix,accuracy_score"
   ]
  },
  {
   "cell_type": "code",
   "execution_count": null,
   "metadata": {
    "colab": {
     "base_uri": "https://localhost:8080/"
    },
    "id": "QU23HuGIEk7n",
    "outputId": "f2384c9d-6e9e-44a4-af20-21b305e3bc84"
   },
   "outputs": [],
   "source": [
    "nltk.download('punkt')"
   ]
  },
  {
   "cell_type": "code",
   "execution_count": null,
   "metadata": {
    "colab": {
     "base_uri": "https://localhost:8080/"
    },
    "id": "ivNRLZhPfyxS",
    "outputId": "fea598ce-e5ac-40ab-9e2f-5cd15e3db496"
   },
   "outputs": [],
   "source": [
    "nltk.download('wordnet')"
   ]
  },
  {
   "cell_type": "code",
   "execution_count": null,
   "metadata": {
    "colab": {
     "base_uri": "https://localhost:8080/"
    },
    "id": "St42LWnOFE1n",
    "outputId": "f7b8e394-fac3-4ec2-d3ce-13d94a795856"
   },
   "outputs": [],
   "source": [
    "nltk.download('stopwords')"
   ]
  },
  {
   "cell_type": "markdown",
   "metadata": {
    "id": "jC4fib6IjoUi"
   },
   "source": [
    "Tokenization and Stemming"
   ]
  },
  {
   "cell_type": "code",
   "execution_count": null,
   "metadata": {
    "colab": {
     "base_uri": "https://localhost:8080/"
    },
    "id": "u_hHqLTgCood",
    "outputId": "9d7d2f7e-111a-43cc-81cd-549e28c0d829"
   },
   "outputs": [],
   "source": [
    "text = \"\"\"Elon Musk co-founded and leads Tesla, SpaceX, Neuralink and The Boring Company. As the co-founder and CEO of Tesla, Elon leads all product design, engineering and global manufacturing of the company electric vehicles, battery products and solar energy products. Since the company’s inception in 2003, Tesla’s mission has been to accelerate the world’s transition to sustainable energy. The first Tesla product, the Roadster sports car, debuted in 2008, followed by the Model S sedan, which was introduced in 2012, and the Model X SUV, which launched in 2015. Model S received Consumer Reports’ Best Overall Car and has been named the Ultimate Car of the Year by Motor Trend, while Model X was the first SUV ever to earn 5-star safety ratings in every category and sub-category in the National Highway Traffic Safety Administration’s tests. In 2017, Tesla began deliveries of Model 3, a mass-market electric vehicle with more than 320 miles of range, and unveiled Tesla Semi, which is designed to save owners at least $200,000 over a million miles based on fuel costs alone. In 2019, Tesla unveiled Cybertruck, which will have better utility than a traditional truck and more performance than a sports car, as well as the Model Y compact SUV, which began customer deliveries in early 2020.\n",
    "Tesla also produces three energy storage products, the Powerwall home battery, the Powerpack commercial-scale battery, and Megapack, which is designed for utility-scale installations. In 2016, Tesla became the world’s first vertically-integrated sustainable energy company with the acquisition of SolarCity, the leading provider of solar power systems in the United States, and in 2017 released Solar Roof – a beautiful and affordable energy generation product.\n",
    "As lead designer at SpaceX, Elon oversees the development of rockets and spacecraft for missions to Earth orbit and ultimately to other planets. In 2008, the SpaceX Falcon 1 was the first privately developed liquid fuel rocket to reach orbit, and SpaceX made further history in 2017 by re-flying both a Falcon 9 rocket and Dragon spacecraft for the first time. Soon after, Falcon Heavy, the most powerful operational rocket in the world by a factor of two, completed its first flight in 2018. In 2019, SpaceX’s crew-capable version of the Dragon spacecraft completed its first demonstration mission, and the company will fly NASA astronauts to the International Space Station for the first time in 2020. Building on these achievements, SpaceX is developing Starship – a fully reusable transportation system that will carry crew and cargo to the Moon, Mars and beyond ­– and Starlink, which will deliver high speed broadband internet to locations where access has been unreliable, expensive, or completely unavailable. By pioneering reusable rockets, SpaceX is pursuing the long-term goal of making humans a multi-planet species by creating a self-sustaining city on Mars.\n",
    "Elon is also CEO of Neuralink, which is developing ultra-high bandwidth brain-machine interfaces to connect the human brain to computers.\n",
    "He also launched The Boring Company, which combines fast, affordable tunneling technology with an all-electric public transportation system in order to alleviate soul-crushing urban congestion and enable high-speed, long-distance travel. The Boring Company built a 1.15 mile R&D tunnel in Hawthorne, and is currently constructing Vegas Loop, a public transportation system at the Las Vegas Convention Center.\n",
    "Previously, Elon co-founded and sold PayPal, the worlds leading Internet payment system, and Zip2, one of the first internet maps and directions services.\n",
    "\"\"\"\n",
    "\n",
    "sentences1 = tokenize.sent_tokenize(text,language='english')\n",
    "stemmer = PorterStemmer()\n",
    "stop_words = stopwords.words('english')\n",
    "print(len(stopwords.words('english')))\n",
    "\n",
    "len_sent = len(sentences1)\n",
    "for i in range(len_sent):\n",
    "  words = nltk.word_tokenize(sentences1[i])\n",
    "  words_stem = [stemmer.stem(word) for word in words if word not in set(stop_words)]\n",
    "  sentences1[i] = ' '.join(words_stem)\n",
    "\n",
    "print(sentences1)"
   ]
  },
  {
   "cell_type": "markdown",
   "metadata": {
    "id": "xd66M26njsd1"
   },
   "source": [
    "Tokenization and Lemmatization"
   ]
  },
  {
   "cell_type": "code",
   "execution_count": null,
   "metadata": {
    "colab": {
     "base_uri": "https://localhost:8080/"
    },
    "id": "p6e0vHADjGmS",
    "outputId": "8dd733f7-e330-49aa-fb24-16578b887d58"
   },
   "outputs": [],
   "source": [
    "text = \"\"\"Elon Musk co-founded and leads Tesla, SpaceX, Neuralink and The Boring Company. As the co-founder and CEO of Tesla, Elon leads all product design, engineering and global manufacturing of the company electric vehicles, battery products and solar energy products. Since the company’s inception in 2003, Tesla’s mission has been to accelerate the world’s transition to sustainable energy. The first Tesla product, the Roadster sports car, debuted in 2008, followed by the Model S sedan, which was introduced in 2012, and the Model X SUV, which launched in 2015. Model S received Consumer Reports’ Best Overall Car and has been named the Ultimate Car of the Year by Motor Trend, while Model X was the first SUV ever to earn 5-star safety ratings in every category and sub-category in the National Highway Traffic Safety Administration’s tests. In 2017, Tesla began deliveries of Model 3, a mass-market electric vehicle with more than 320 miles of range, and unveiled Tesla Semi, which is designed to save owners at least $200,000 over a million miles based on fuel costs alone. In 2019, Tesla unveiled Cybertruck, which will have better utility than a traditional truck and more performance than a sports car, as well as the Model Y compact SUV, which began customer deliveries in early 2020.\n",
    "Tesla also produces three energy storage products, the Powerwall home battery, the Powerpack commercial-scale battery, and Megapack, which is designed for utility-scale installations. In 2016, Tesla became the world’s first vertically-integrated sustainable energy company with the acquisition of SolarCity, the leading provider of solar power systems in the United States, and in 2017 released Solar Roof – a beautiful and affordable energy generation product.\n",
    "As lead designer at SpaceX, Elon oversees the development of rockets and spacecraft for missions to Earth orbit and ultimately to other planets. In 2008, the SpaceX Falcon 1 was the first privately developed liquid fuel rocket to reach orbit, and SpaceX made further history in 2017 by re-flying both a Falcon 9 rocket and Dragon spacecraft for the first time. Soon after, Falcon Heavy, the most powerful operational rocket in the world by a factor of two, completed its first flight in 2018. In 2019, SpaceX’s crew-capable version of the Dragon spacecraft completed its first demonstration mission, and the company will fly NASA astronauts to the International Space Station for the first time in 2020. Building on these achievements, SpaceX is developing Starship – a fully reusable transportation system that will carry crew and cargo to the Moon, Mars and beyond ­– and Starlink, which will deliver high speed broadband internet to locations where access has been unreliable, expensive, or completely unavailable. By pioneering reusable rockets, SpaceX is pursuing the long-term goal of making humans a multi-planet species by creating a self-sustaining city on Mars.\n",
    "Elon is also CEO of Neuralink, which is developing ultra-high bandwidth brain-machine interfaces to connect the human brain to computers.\n",
    "He also launched The Boring Company, which combines fast, affordable tunneling technology with an all-electric public transportation system in order to alleviate soul-crushing urban congestion and enable high-speed, long-distance travel. The Boring Company built a 1.15 mile R&D tunnel in Hawthorne, and is currently constructing Vegas Loop, a public transportation system at the Las Vegas Convention Center.\n",
    "Previously, Elon co-founded and sold PayPal, the worlds leading Internet payment system, and Zip2, one of the first internet maps and directions services.\n",
    "\"\"\"\n",
    "\n",
    "sentences2 = tokenize.sent_tokenize(text,language='english')\n",
    "lemmatizer = WordNetLemmatizer()\n",
    "stop_words = stopwords.words('english')\n",
    "print(len(stopwords.words('english')))\n",
    "\n",
    "len_sent = len(sentences2)\n",
    "for i in range(len_sent):\n",
    "  words = nltk.word_tokenize(sentences2[i])\n",
    "  words_lemm = [lemmatizer.lemmatize(word) for word in words if word not in set(stop_words)]\n",
    "  sentences2[i] = ' '.join(words_lemm)\n",
    "\n",
    "print(sentences2)"
   ]
  },
  {
   "cell_type": "markdown",
   "metadata": {
    "id": "mh6M7eTtjz8r"
   },
   "source": [
    "Bag of words"
   ]
  },
  {
   "cell_type": "code",
   "execution_count": null,
   "metadata": {
    "colab": {
     "base_uri": "https://localhost:8080/"
    },
    "id": "LTySs5WdDfmR",
    "outputId": "8d83ef58-b974-40f4-ad06-339a7b52cef0"
   },
   "outputs": [],
   "source": [
    "text = \"\"\"Elon Musk co-founded and leads Tesla, SpaceX, Neuralink and The Boring Company. As the co-founder and CEO of Tesla, Elon leads all product design, engineering and global manufacturing of the company electric vehicles, battery products and solar energy products. Since the company’s inception in 2003, Tesla’s mission has been to accelerate the world’s transition to sustainable energy. The first Tesla product, the Roadster sports car, debuted in 2008, followed by the Model S sedan, which was introduced in 2012, and the Model X SUV, which launched in 2015. Model S received Consumer Reports’ Best Overall Car and has been named the Ultimate Car of the Year by Motor Trend, while Model X was the first SUV ever to earn 5-star safety ratings in every category and sub-category in the National Highway Traffic Safety Administration’s tests. In 2017, Tesla began deliveries of Model 3, a mass-market electric vehicle with more than 320 miles of range, and unveiled Tesla Semi, which is designed to save owners at least $200,000 over a million miles based on fuel costs alone. In 2019, Tesla unveiled Cybertruck, which will have better utility than a traditional truck and more performance than a sports car, as well as the Model Y compact SUV, which began customer deliveries in early 2020.\n",
    "Tesla also produces three energy storage products, the Powerwall home battery, the Powerpack commercial-scale battery, and Megapack, which is designed for utility-scale installations. In 2016, Tesla became the world’s first vertically-integrated sustainable energy company with the acquisition of SolarCity, the leading provider of solar power systems in the United States, and in 2017 released Solar Roof – a beautiful and affordable energy generation product.\n",
    "As lead designer at SpaceX, Elon oversees the development of rockets and spacecraft for missions to Earth orbit and ultimately to other planets. In 2008, the SpaceX Falcon 1 was the first privately developed liquid fuel rocket to reach orbit, and SpaceX made further history in 2017 by re-flying both a Falcon 9 rocket and Dragon spacecraft for the first time. Soon after, Falcon Heavy, the most powerful operational rocket in the world by a factor of two, completed its first flight in 2018. In 2019, SpaceX’s crew-capable version of the Dragon spacecraft completed its first demonstration mission, and the company will fly NASA astronauts to the International Space Station for the first time in 2020. Building on these achievements, SpaceX is developing Starship – a fully reusable transportation system that will carry crew and cargo to the Moon, Mars and beyond ­– and Starlink, which will deliver high speed broadband internet to locations where access has been unreliable, expensive, or completely unavailable. By pioneering reusable rockets, SpaceX is pursuing the long-term goal of making humans a multi-planet species by creating a self-sustaining city on Mars.\n",
    "Elon is also CEO of Neuralink, which is developing ultra-high bandwidth brain-machine interfaces to connect the human brain to computers.\n",
    "He also launched The Boring Company, which combines fast, affordable tunneling technology with an all-electric public transportation system in order to alleviate soul-crushing urban congestion and enable high-speed, long-distance travel. The Boring Company built a 1.15 mile R&D tunnel in Hawthorne, and is currently constructing Vegas Loop, a public transportation system at the Las Vegas Convention Center.\n",
    "Previously, Elon co-founded and sold PayPal, the worlds leading Internet payment system, and Zip2, one of the first internet maps and directions services.\n",
    "\"\"\"\n",
    "\n",
    "sentences3 = tokenize.sent_tokenize(text,language='english')\n",
    "lemmatizer = WordNetLemmatizer()\n",
    "stop_words = stopwords.words('english')\n",
    "# print(len(stopwords.words('english')))\n",
    "\n",
    "len_sent = len(sentences3)\n",
    "for i in range(len_sent):\n",
    "  sentences3[i] = re.sub('[^a-zA-Z]',' ',sentences3[i])\n",
    "  sentences3[i] = sentences3[i].lower()\n",
    "  words = nltk.word_tokenize(sentences3[i])\n",
    "  words_lemm = [lemmatizer.lemmatize(word) for word in words if word not in set(stop_words)]\n",
    "  sentences3[i] = ' '.join(words_lemm)\n",
    "\n",
    "print(sentences3)\n",
    "cv = CountVectorizer()\n",
    "op = cv.fit_transform(sentences3)\n",
    "print(op.toarray())"
   ]
  },
  {
   "cell_type": "markdown",
   "metadata": {
    "id": "7D_jwWkKyw2D"
   },
   "source": [
    "TF-IDF"
   ]
  },
  {
   "cell_type": "code",
   "execution_count": null,
   "metadata": {
    "colab": {
     "base_uri": "https://localhost:8080/"
    },
    "id": "I3X08I-ryyV1",
    "outputId": "46be096d-973f-470b-ac54-d65ae19e584a"
   },
   "outputs": [],
   "source": [
    "text = \"\"\"Elon Musk co-founded and leads Tesla, SpaceX, Neuralink and The Boring Company. As the co-founder and CEO of Tesla, Elon leads all product design, engineering and global manufacturing of the company electric vehicles, battery products and solar energy products. Since the company’s inception in 2003, Tesla’s mission has been to accelerate the world’s transition to sustainable energy. The first Tesla product, the Roadster sports car, debuted in 2008, followed by the Model S sedan, which was introduced in 2012, and the Model X SUV, which launched in 2015. Model S received Consumer Reports’ Best Overall Car and has been named the Ultimate Car of the Year by Motor Trend, while Model X was the first SUV ever to earn 5-star safety ratings in every category and sub-category in the National Highway Traffic Safety Administration’s tests. In 2017, Tesla began deliveries of Model 3, a mass-market electric vehicle with more than 320 miles of range, and unveiled Tesla Semi, which is designed to save owners at least $200,000 over a million miles based on fuel costs alone. In 2019, Tesla unveiled Cybertruck, which will have better utility than a traditional truck and more performance than a sports car, as well as the Model Y compact SUV, which began customer deliveries in early 2020.\n",
    "Tesla also produces three energy storage products, the Powerwall home battery, the Powerpack commercial-scale battery, and Megapack, which is designed for utility-scale installations. In 2016, Tesla became the world’s first vertically-integrated sustainable energy company with the acquisition of SolarCity, the leading provider of solar power systems in the United States, and in 2017 released Solar Roof – a beautiful and affordable energy generation product.\n",
    "As lead designer at SpaceX, Elon oversees the development of rockets and spacecraft for missions to Earth orbit and ultimately to other planets. In 2008, the SpaceX Falcon 1 was the first privately developed liquid fuel rocket to reach orbit, and SpaceX made further history in 2017 by re-flying both a Falcon 9 rocket and Dragon spacecraft for the first time. Soon after, Falcon Heavy, the most powerful operational rocket in the world by a factor of two, completed its first flight in 2018. In 2019, SpaceX’s crew-capable version of the Dragon spacecraft completed its first demonstration mission, and the company will fly NASA astronauts to the International Space Station for the first time in 2020. Building on these achievements, SpaceX is developing Starship – a fully reusable transportation system that will carry crew and cargo to the Moon, Mars and beyond ­– and Starlink, which will deliver high speed broadband internet to locations where access has been unreliable, expensive, or completely unavailable. By pioneering reusable rockets, SpaceX is pursuing the long-term goal of making humans a multi-planet species by creating a self-sustaining city on Mars.\n",
    "Elon is also CEO of Neuralink, which is developing ultra-high bandwidth brain-machine interfaces to connect the human brain to computers.\n",
    "He also launched The Boring Company, which combines fast, affordable tunneling technology with an all-electric public transportation system in order to alleviate soul-crushing urban congestion and enable high-speed, long-distance travel. The Boring Company built a 1.15 mile R&D tunnel in Hawthorne, and is currently constructing Vegas Loop, a public transportation system at the Las Vegas Convention Center.\n",
    "Previously, Elon co-founded and sold PayPal, the worlds leading Internet payment system, and Zip2, one of the first internet maps and directions services.\n",
    "\"\"\"\n",
    "\n",
    "sentences4 = tokenize.sent_tokenize(text,language='english')\n",
    "lemmatizer = WordNetLemmatizer()\n",
    "stop_words = stopwords.words('english')\n",
    "# print(len(stopwords.words('english')))\n",
    "\n",
    "len_sent = len(sentences4)\n",
    "for i in range(len_sent):\n",
    "  sentences4[i] = re.sub('[^a-zA-Z]',' ',sentences4[i])\n",
    "  sentences4[i] = sentences4[i].lower()\n",
    "  words = nltk.word_tokenize(sentences4[i])\n",
    "  words_lemm = [lemmatizer.lemmatize(word) for word in words if word not in set(stop_words)]\n",
    "  sentences4[i] = ' '.join(words_lemm)\n",
    "\n",
    "print(sentences4)\n",
    "tfidf = TfidfVectorizer()\n",
    "op = tfidf.fit_transform(sentences4)\n",
    "print(op.toarray())"
   ]
  },
  {
   "cell_type": "code",
   "execution_count": null,
   "metadata": {
    "colab": {
     "base_uri": "https://localhost:8080/"
    },
    "id": "TB347TDPwyDt",
    "outputId": "ce27f103-8c92-4b74-d97a-817a14d45e39"
   },
   "outputs": [],
   "source": [
    "# print(re.sub('[^a-zA-Z]',' ',text.split('.')[0]))\n",
    "# print(text.split('.')[0].split())\n",
    "# print(nltk.word_tokenize(text.split('.')[0]))"
   ]
  },
  {
   "cell_type": "markdown",
   "metadata": {
    "jp-MarkdownHeadingCollapsed": true,
    "tags": []
   },
   "source": [
    "# Spam Classifier"
   ]
  },
  {
   "cell_type": "code",
   "execution_count": null,
   "metadata": {},
   "outputs": [],
   "source": [
    "import pandas as pd"
   ]
  },
  {
   "cell_type": "code",
   "execution_count": null,
   "metadata": {},
   "outputs": [],
   "source": [
    "path = 'smsspamcollection\\SMSSpamCollection'\n",
    "spam = pd.read_csv(path,sep='\\t',header=None)"
   ]
  },
  {
   "cell_type": "code",
   "execution_count": null,
   "metadata": {},
   "outputs": [],
   "source": [
    "text = list(spam[1])\n",
    "length = len(text)\n",
    "lemmatizer = WordNetLemmatizer()\n",
    "for i in range(length):\n",
    "    text[i] = re.sub('[^a-zA-Z]',' ',text[i])\n",
    "    text[i] = text[i].lower()\n",
    "    words = nltk.word_tokenize(text[i])\n",
    "    words_lemm = [lemmatizer.lemmatize(word) for word in words if word not in set(stop_words)]\n",
    "    text[i] = ' '.join(words_lemm)\n",
    "tfidf = TfidfVectorizer()\n",
    "x = tfidf.fit_transform(text)"
   ]
  },
  {
   "cell_type": "code",
   "execution_count": null,
   "metadata": {},
   "outputs": [],
   "source": [
    "# print(text)\n",
    "x = x.toarray()\n",
    "print(x)"
   ]
  },
  {
   "cell_type": "code",
   "execution_count": null,
   "metadata": {},
   "outputs": [],
   "source": [
    "y=pd.get_dummies(spam[0])['ham']\n",
    "print(y)"
   ]
  },
  {
   "cell_type": "code",
   "execution_count": null,
   "metadata": {},
   "outputs": [],
   "source": [
    "x_train, x_test, y_train, y_test = train_test_split(x,y,test_size=0.2,random_state=0)\n",
    "spam_classifier = MultinomialNB().fit(x_train,y_train)\n",
    "y_pred = spam_classifier.predict(x_test)"
   ]
  },
  {
   "cell_type": "code",
   "execution_count": null,
   "metadata": {},
   "outputs": [],
   "source": [
    "confusion_matrix(y_test,y_pred)"
   ]
  },
  {
   "cell_type": "code",
   "execution_count": null,
   "metadata": {},
   "outputs": [],
   "source": [
    "accuracy_score(y_test,y_pred)"
   ]
  },
  {
   "cell_type": "markdown",
   "metadata": {
    "jp-MarkdownHeadingCollapsed": true,
    "tags": []
   },
   "source": [
    "# Word2Vec"
   ]
  },
  {
   "cell_type": "code",
   "execution_count": null,
   "metadata": {},
   "outputs": [],
   "source": [
    "import re\n",
    "from gensim.models import Word2Vec\n",
    "from nltk.corpus import stopwords\n",
    "\n",
    "paragraph = \"\"\"Elon Musk co-founded and leads Tesla, SpaceX, Neuralink and The Boring Company. As the co-founder and CEO of Tesla, Elon leads all product design, engineering and global manufacturing of the company electric vehicles, battery products and solar energy products. Since the company’s inception in 2003, Tesla’s mission has been to accelerate the world’s transition to sustainable energy. The first Tesla product, the Roadster sports car, debuted in 2008, followed by the Model S sedan, which was introduced in 2012, and the Model X SUV, which launched in 2015. Model S received Consumer Reports’ Best Overall Car and has been named the Ultimate Car of the Year by Motor Trend, while Model X was the first SUV ever to earn 5-star safety ratings in every category and sub-category in the National Highway Traffic Safety Administration’s tests. In 2017, Tesla began deliveries of Model 3, a mass-market electric vehicle with more than 320 miles of range, and unveiled Tesla Semi, which is designed to save owners at least $200,000 over a million miles based on fuel costs alone. In 2019, Tesla unveiled Cybertruck, which will have better utility than a traditional truck and more performance than a sports car, as well as the Model Y compact SUV, which began customer deliveries in early 2020.\n",
    "Tesla also produces three energy storage products, the Powerwall home battery, the Powerpack commercial-scale battery, and Megapack, which is designed for utility-scale installations. In 2016, Tesla became the world’s first vertically-integrated sustainable energy company with the acquisition of SolarCity, the leading provider of solar power systems in the United States, and in 2017 released Solar Roof – a beautiful and affordable energy generation product.\n",
    "As lead designer at SpaceX, Elon oversees the development of rockets and spacecraft for missions to Earth orbit and ultimately to other planets. In 2008, the SpaceX Falcon 1 was the first privately developed liquid fuel rocket to reach orbit, and SpaceX made further history in 2017 by re-flying both a Falcon 9 rocket and Dragon spacecraft for the first time. Soon after, Falcon Heavy, the most powerful operational rocket in the world by a factor of two, completed its first flight in 2018. In 2019, SpaceX’s crew-capable version of the Dragon spacecraft completed its first demonstration mission, and the company will fly NASA astronauts to the International Space Station for the first time in 2020. Building on these achievements, SpaceX is developing Starship – a fully reusable transportation system that will carry crew and cargo to the Moon, Mars and beyond ­– and Starlink, which will deliver high speed broadband internet to locations where access has been unreliable, expensive, or completely unavailable. By pioneering reusable rockets, SpaceX is pursuing the long-term goal of making humans a multi-planet species by creating a self-sustaining city on Mars.\n",
    "Elon is also CEO of Neuralink, which is developing ultra-high bandwidth brain-machine interfaces to connect the human brain to computers.\n",
    "He also launched The Boring Company, which combines fast, affordable tunneling technology with an all-electric public transportation system in order to alleviate soul-crushing urban congestion and enable high-speed, long-distance travel. The Boring Company built a 1.15 mile R&D tunnel in Hawthorne, and is currently constructing Vegas Loop, a public transportation system at the Las Vegas Convention Center.\n",
    "Previously, Elon co-founded and sold PayPal, the worlds leading Internet payment system, and Zip2, one of the first internet maps and directions services.\n",
    "\"\"\""
   ]
  },
  {
   "cell_type": "code",
   "execution_count": null,
   "metadata": {},
   "outputs": [],
   "source": [
    "text = re.sub(r'\\[[0-9]*\\]',' ',paragraph)\n",
    "text = re.sub(r'\\s+',' ',text)  # matches unicode whitespace characters like tab, newline, carriage return\n",
    "text = text.lower()\n",
    "text = re.sub(r'\\d',' ',text)  # matches unicode decimal characters\n",
    "text = re.sub(r'\\s+',' ',text)\n",
    "text"
   ]
  },
  {
   "cell_type": "code",
   "execution_count": null,
   "metadata": {},
   "outputs": [],
   "source": [
    "# Preparing the dataset\n",
    "sentences = nltk.sent_tokenize(text)\n",
    "\n",
    "sentences = [nltk.word_tokenize(sentence) for sentence in sentences]\n",
    "\n",
    "for i in range(len(sentences)):\n",
    "    sentences[i] = [word for word in sentences[i] if word not in stopwords.words('english')]"
   ]
  },
  {
   "cell_type": "code",
   "execution_count": null,
   "metadata": {},
   "outputs": [],
   "source": [
    "# Training the Word2Vec model\n",
    "model = Word2Vec(sentences, min_count=1)"
   ]
  },
  {
   "cell_type": "code",
   "execution_count": null,
   "metadata": {},
   "outputs": [],
   "source": [
    "# Finding Word Vectors\n",
    "vector = model.wv['elon']\n",
    "print(vector)\n",
    "# Most similar words\n",
    "similar = model.wv.most_similar('musk')\n",
    "print(similar)"
   ]
  },
  {
   "cell_type": "markdown",
   "metadata": {
    "jp-MarkdownHeadingCollapsed": true,
    "tags": []
   },
   "source": [
    "# Stock price movement prediction based on headlines"
   ]
  },
  {
   "cell_type": "code",
   "execution_count": null,
   "metadata": {},
   "outputs": [],
   "source": [
    "import pandas as pd\n",
    "\n",
    "df = pd.read_csv('StockPrice\\data.csv')\n",
    "df.head(3)"
   ]
  },
  {
   "cell_type": "code",
   "execution_count": null,
   "metadata": {},
   "outputs": [],
   "source": [
    "train = df[df['Date']<'20150101']\n",
    "test = df[df['Date']<'20141231']"
   ]
  },
  {
   "cell_type": "code",
   "execution_count": null,
   "metadata": {},
   "outputs": [],
   "source": [
    "# Removing punctuations\n",
    "data=train.iloc[:,2:27]\n",
    "data.replace(\"[^a-zA-Z]\",\" \",regex=True, inplace=True)\n",
    "\n",
    "# Renaming column names for ease of access\n",
    "list1= [i for i in range(25)]\n",
    "new_Index=[str(i) for i in list1]\n",
    "data.columns= new_Index\n",
    "data.head(5)"
   ]
  },
  {
   "cell_type": "code",
   "execution_count": null,
   "metadata": {},
   "outputs": [],
   "source": [
    "# Converting headlines to lower case\n",
    "for index in new_Index:\n",
    "    data[index]=data[index].str.lower()\n",
    "data.head(1)"
   ]
  },
  {
   "cell_type": "code",
   "execution_count": null,
   "metadata": {},
   "outputs": [],
   "source": [
    "headlines = []\n",
    "for row in range(0,len(data.index)):\n",
    "    headlines.append(' '.join(str(x) for x in data.iloc[row,0:25]))"
   ]
  },
  {
   "cell_type": "code",
   "execution_count": null,
   "metadata": {},
   "outputs": [],
   "source": [
    "headlines[0]"
   ]
  },
  {
   "cell_type": "code",
   "execution_count": null,
   "metadata": {},
   "outputs": [],
   "source": [
    "from sklearn.feature_extraction.text import CountVectorizer\n",
    "from sklearn.ensemble import RandomForestClassifier"
   ]
  },
  {
   "cell_type": "code",
   "execution_count": null,
   "metadata": {},
   "outputs": [],
   "source": [
    "## implement BAG OF WORDS\n",
    "countvector=CountVectorizer(ngram_range=(2,2))\n",
    "traindataset=countvector.fit_transform(headlines)"
   ]
  },
  {
   "cell_type": "code",
   "execution_count": null,
   "metadata": {},
   "outputs": [],
   "source": [
    "# implement RandomForest Classifier\n",
    "randomclassifier=RandomForestClassifier(n_estimators=200,criterion='entropy')\n",
    "randomclassifier.fit(traindataset,train['Label'])"
   ]
  },
  {
   "cell_type": "code",
   "execution_count": null,
   "metadata": {},
   "outputs": [],
   "source": [
    "## Predict for the Test Dataset\n",
    "test_transform= []\n",
    "for row in range(0,len(test.index)):\n",
    "    test_transform.append(' '.join(str(x) for x in test.iloc[row,2:27]))\n",
    "test_dataset = countvector.transform(test_transform)\n",
    "predictions = randomclassifier.predict(test_dataset)"
   ]
  },
  {
   "cell_type": "code",
   "execution_count": null,
   "metadata": {},
   "outputs": [],
   "source": [
    "## Import library to check accuracy\n",
    "from sklearn.metrics import classification_report,confusion_matrix,accuracy_score"
   ]
  },
  {
   "cell_type": "code",
   "execution_count": null,
   "metadata": {},
   "outputs": [],
   "source": [
    "matrix=confusion_matrix(test['Label'],predictions)\n",
    "print(matrix)\n",
    "score=accuracy_score(test['Label'],predictions)\n",
    "print(score)\n",
    "report=classification_report(test['Label'],predictions)\n",
    "print(report)"
   ]
  },
  {
   "cell_type": "markdown",
   "metadata": {
    "jp-MarkdownHeadingCollapsed": true,
    "tags": []
   },
   "source": [
    "# Minor change in the original"
   ]
  },
  {
   "cell_type": "code",
   "execution_count": null,
   "metadata": {},
   "outputs": [],
   "source": [
    "import pandas as pd\n",
    "import nltk\n",
    "from nltk.corpus import stopwords"
   ]
  },
  {
   "cell_type": "code",
   "execution_count": null,
   "metadata": {},
   "outputs": [],
   "source": [
    "data = pd.read_csv('StockPrice\\Data.csv')\n",
    "data.head(3)"
   ]
  },
  {
   "cell_type": "code",
   "execution_count": null,
   "metadata": {},
   "outputs": [],
   "source": [
    "x = data.iloc[:,2:]\n",
    "y = data['Label']"
   ]
  },
  {
   "cell_type": "code",
   "execution_count": null,
   "metadata": {},
   "outputs": [],
   "source": [
    "column_name = [i for i in range(25)]\n",
    "x.columns=column_name\n",
    "x.replace(\"[^a-zA-Z]\", \" \", regex=True, inplace=True)"
   ]
  },
  {
   "cell_type": "code",
   "execution_count": null,
   "metadata": {},
   "outputs": [],
   "source": [
    "from sklearn.model_selection import train_test_split\n",
    "\n",
    "x_train, x_test, y_train, y_test = train_test_split(x,y,test_size=0.2,random_state=0)"
   ]
  },
  {
   "cell_type": "code",
   "execution_count": null,
   "metadata": {},
   "outputs": [],
   "source": [
    "sentences = []\n",
    "sentence = ''.join(i for i in x_train.iloc[0])\n",
    "words = nltk.word_tokenize(sentence)\n",
    "print(len(words))\n",
    "words = [word for word in words if word not in stopwords.words('english')]\n",
    "print(len(words))\n",
    "# x_train.head(1)\n",
    "# for i in range(len(x_train)):"
   ]
  },
  {
   "cell_type": "markdown",
   "metadata": {
    "tags": []
   },
   "source": [
    "# Sentiment Analysis using vanilla RNN"
   ]
  },
  {
   "cell_type": "code",
   "execution_count": 30,
   "metadata": {},
   "outputs": [],
   "source": [
    "import torch\n",
    "import torchtext\n",
    "from torchtext.legacy import data\n",
    "from torchtext.datasets import IMDB\n",
    "from torchtext.data.utils import get_tokenizer\n",
    "import pandas as pd\n",
    "import re\n",
    "from gensim.models import Word2Vec, TfidfModel\n",
    "from gensim.parsing.preprocessing import remove_stopwords, STOPWORDS\n",
    "from nltk.stem import WordNetLemmatizer\n",
    "from sklearn.feature_extraction.text import TfidfVectorizer\n",
    "from sklearn.model_selection import train_test_split\n",
    "from collections import Counter\n",
    "from itertools import chain\n",
    "import pickle"
   ]
  },
  {
   "cell_type": "code",
   "execution_count": 19,
   "metadata": {},
   "outputs": [],
   "source": [
    "tokenizer = get_tokenizer('basic_english')\n",
    "lemmatizer = WordNetLemmatizer()\n",
    "tfidf = TfidfVectorizer()"
   ]
  },
  {
   "cell_type": "code",
   "execution_count": 2,
   "metadata": {},
   "outputs": [],
   "source": [
    "train_iter, test_iter = IMDB(split=('train','test'))\n",
    "train_iter = list(train_iter)\n",
    "test_final = list(test_iter)"
   ]
  },
  {
   "cell_type": "code",
   "execution_count": 8,
   "metadata": {},
   "outputs": [],
   "source": [
    "train_final, valid_final = train_test_split(train_iter,test_size=0.3,shuffle=True)\n",
    "# train_final - 17_500\n",
    "# valid_final - 7_500\n",
    "# test_final - 25_000"
   ]
  },
  {
   "cell_type": "code",
   "execution_count": 40,
   "metadata": {},
   "outputs": [],
   "source": [
    "counter = Counter()\n",
    "label_final = []\n",
    "train_final_ = []"
   ]
  },
  {
   "cell_type": "code",
   "execution_count": 42,
   "metadata": {},
   "outputs": [
    {
     "name": "stdout",
     "output_type": "stream",
     "text": [
      "['I rented I AM CURIOUS-YELLOW from my video store because of all the controversy that surrounded it when it was first released in 1967. I also heard that at first it was seized by U.S. customs if it ever tried to enter this country, therefore being a fan of films considered \"controversial\" I really had to see this for myself.<br /><br />The plot is centered around a young Swedish drama student named Lena who wants to learn everything she can about life. In particular she wants to focus her attentions to making some sort of documentary on what the average Swede thought about certain political issues such as the Vietnam War and race issues in the United States. In between asking politicians and ordinary denizens of Stockholm about their opinions on politics, she has sex with her drama teacher, classmates, and married men.<br /><br />What kills me about I AM CURIOUS-YELLOW is that 40 years ago, this was considered pornographic. Really, the sex and nudity scenes are few and far between, even then it\\'s not shot like some cheaply made porno. While my countrymen mind find it shocking, in reality sex and nudity are a major staple in Swedish cinema. Even Ingmar Bergman, arguably their answer to good old boy John Ford, had sex scenes in his films.<br /><br />I do commend the filmmakers for the fact that any sex shown in the film is shown for artistic purposes rather than just to shock people and make money to be shown in pornographic theaters in America. I AM CURIOUS-YELLOW is a good film for anyone wanting to study the meat and potatoes (no pun intended) of Swedish cinema. But really, this film doesn\\'t have much of a plot.']\n"
     ]
    }
   ],
   "source": [
    "MAX_VOCAB_SIZE = 25_000\n",
    "for (label,line) in train_iter:\n",
    "    print([line])\n",
    "    break\n",
    "#     counter.update(tokenizer(line))"
   ]
  },
  {
   "cell_type": "code",
   "execution_count": 38,
   "metadata": {},
   "outputs": [],
   "source": [
    "vocab_ = build_vocab_from_iterator(train_final, min_freq=10, specials=('<unk>','<BOS>','<EOS>','<PAD>'))"
   ]
  },
  {
   "cell_type": "code",
   "execution_count": 39,
   "metadata": {},
   "outputs": [
    {
     "data": {
      "text/plain": [
       "{'neg': 5, 'pos': 4, '<BOS>': 1, '<unk>': 0, '<PAD>': 3, '<EOS>': 2}"
      ]
     },
     "execution_count": 39,
     "metadata": {},
     "output_type": "execute_result"
    }
   ],
   "source": [
    "vv = Vocab(vocab_)\n",
    "vv.get_stoi()"
   ]
  },
  {
   "cell_type": "code",
   "execution_count": 52,
   "metadata": {},
   "outputs": [
    {
     "ename": "TypeError",
     "evalue": "__init__() got an unexpected keyword argument 'min_freq'",
     "output_type": "error",
     "traceback": [
      "\u001b[1;31m---------------------------------------------------------------------------\u001b[0m",
      "\u001b[1;31mTypeError\u001b[0m                                 Traceback (most recent call last)",
      "\u001b[1;32mC:\\Users\\PYTORC~1\\AppData\\Local\\Temp/ipykernel_11320/71429517.py\u001b[0m in \u001b[0;36m<module>\u001b[1;34m\u001b[0m\n\u001b[0;32m      1\u001b[0m \u001b[1;32mfor\u001b[0m \u001b[0m_\u001b[0m\u001b[1;33m,\u001b[0m\u001b[0mline\u001b[0m \u001b[1;32min\u001b[0m \u001b[0mtrain_final\u001b[0m\u001b[1;33m:\u001b[0m\u001b[1;33m\u001b[0m\u001b[1;33m\u001b[0m\u001b[0m\n\u001b[0;32m      2\u001b[0m     \u001b[0mcounter\u001b[0m\u001b[1;33m.\u001b[0m\u001b[0mupdate\u001b[0m\u001b[1;33m(\u001b[0m\u001b[0mtokenizer\u001b[0m\u001b[1;33m(\u001b[0m\u001b[0mline\u001b[0m\u001b[1;33m)\u001b[0m\u001b[1;33m)\u001b[0m\u001b[1;33m\u001b[0m\u001b[1;33m\u001b[0m\u001b[0m\n\u001b[1;32m----> 3\u001b[1;33m \u001b[0mvocab\u001b[0m \u001b[1;33m=\u001b[0m \u001b[0mVocab\u001b[0m\u001b[1;33m(\u001b[0m\u001b[0mcounter\u001b[0m\u001b[1;33m,\u001b[0m \u001b[0mmin_freq\u001b[0m\u001b[1;33m=\u001b[0m\u001b[1;36m10\u001b[0m\u001b[1;33m,\u001b[0m \u001b[0mspecials\u001b[0m\u001b[1;33m=\u001b[0m\u001b[1;33m(\u001b[0m\u001b[1;34m'<unk>'\u001b[0m\u001b[1;33m,\u001b[0m \u001b[1;34m'<BOS>'\u001b[0m\u001b[1;33m,\u001b[0m \u001b[1;34m'<EOS>'\u001b[0m\u001b[1;33m,\u001b[0m \u001b[1;34m'<PAD>'\u001b[0m\u001b[1;33m)\u001b[0m\u001b[1;33m)\u001b[0m\u001b[1;33m\u001b[0m\u001b[1;33m\u001b[0m\u001b[0m\n\u001b[0m",
      "\u001b[1;31mTypeError\u001b[0m: __init__() got an unexpected keyword argument 'min_freq'"
     ]
    }
   ],
   "source": [
    "for _,line in train_final:\n",
    "    counter.update(tokenizer(line))\n",
    "vocab = Vocab(counter, min_freq=10, specials=('<unk>', '<BOS>', '<EOS>', '<PAD>'))"
   ]
  },
  {
   "cell_type": "code",
   "execution_count": 4,
   "metadata": {},
   "outputs": [],
   "source": [
    "train_data = []\n",
    "labels = []\n",
    "test_data = []"
   ]
  },
  {
   "cell_type": "code",
   "execution_count": 7,
   "metadata": {},
   "outputs": [],
   "source": [
    "for i in range(len(train_final)):\n",
    "  sentence = re.sub('[^a-zA-Z]',' ',train_final[i][1])\n",
    "  sentence = sentence.lower()\n",
    "  sentence = remove_stopwords(sentence)\n",
    "  words = tokenizer(sentence)\n",
    "  words_lemm = [lemmatizer.lemmatize(word) for word in words]\n",
    "  train_data.append(' '.join(words_lemm))\n",
    "  labels.append(train_final[i][0])"
   ]
  },
  {
   "cell_type": "code",
   "execution_count": 8,
   "metadata": {},
   "outputs": [],
   "source": [
    "print(Counter(labels)) # Training data labels\n",
    "# Neg - 0\n",
    "# Pos - 1\n",
    "\n",
    "for i in range(len(labels)):\n",
    "    labels[i] = 0 if labels[i]=='neg' else 1"
   ]
  },
  {
   "cell_type": "code",
   "execution_count": 9,
   "metadata": {},
   "outputs": [],
   "source": [
    "# for i in range(len(train_final)):\n",
    "#     labels.append(train_final[i][0])\n",
    "print(Counter(labels))"
   ]
  },
  {
   "cell_type": "code",
   "execution_count": 10,
   "metadata": {},
   "outputs": [],
   "source": [
    "train_data_wordTokens = train_data\n",
    "for i in range(len(train_data_wordTokens)):\n",
    "    train_data_wordTokens[i] = tokenizer(train_data_wordTokens[i])"
   ]
  },
  {
   "cell_type": "code",
   "execution_count": 11,
   "metadata": {},
   "outputs": [],
   "source": [
    "model = Word2Vec(sentences = train_data_wordTokens, vector_size=30, workers=3, window=3)"
   ]
  },
  {
   "cell_type": "code",
   "execution_count": 12,
   "metadata": {},
   "outputs": [],
   "source": [
    "print(model.wv['true'])\n",
    "print(model.wv.most_similar('true',topn=3))"
   ]
  },
  {
   "cell_type": "code",
   "execution_count": 13,
   "metadata": {},
   "outputs": [],
   "source": [
    "train_data_embeddings = []\n",
    "train_data_wordTokens[0][:3]\n",
    "# model.wv[train_data_wordTokens[0][0]]"
   ]
  },
  {
   "cell_type": "code",
   "execution_count": 41,
   "metadata": {},
   "outputs": [],
   "source": [
    "for i in range(len(train_data_wordTokens)):\n",
    "    embeddings = []\n",
    "    for j in train_data_wordTokens:\n",
    "        if j in model.wv.index_to_key:\n",
    "            embeddings.append(model.wv[j])\n",
    "    train_data_embeddings.append(embeddings)"
   ]
  },
  {
   "cell_type": "code",
   "execution_count": null,
   "metadata": {},
   "outputs": [],
   "source": []
  },
  {
   "cell_type": "code",
   "execution_count": null,
   "metadata": {},
   "outputs": [],
   "source": [
    "with open('variables.pickle','wb') as f:\n",
    "    pickle.dump([train_data_wordTokens,labels,model],f)\n",
    "# train_data = list(chain.from_iterable(train_data))"
   ]
  },
  {
   "cell_type": "code",
   "execution_count": 40,
   "metadata": {},
   "outputs": [],
   "source": [
    "# with open('variables.pickle','rb') as f:\n",
    "#     train_data__,labels__,model__ = pickle.load(f)\n",
    "# train_data_wordTokens[0]\n",
    "model.wv.index_to_key"
   ]
  }
 ],
 "metadata": {
  "colab": {
   "collapsed_sections": [],
   "name": "NLP.ipynb",
   "provenance": []
  },
  "kernelspec": {
   "display_name": "NLP",
   "language": "python",
   "name": "nlp"
  },
  "language_info": {
   "codemirror_mode": {
    "name": "ipython",
    "version": 3
   },
   "file_extension": ".py",
   "mimetype": "text/x-python",
   "name": "python",
   "nbconvert_exporter": "python",
   "pygments_lexer": "ipython3",
   "version": "3.9.6"
  }
 },
 "nbformat": 4,
 "nbformat_minor": 4
}
